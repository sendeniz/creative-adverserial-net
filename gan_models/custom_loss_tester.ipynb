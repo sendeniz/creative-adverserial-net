{
  "nbformat": 4,
  "nbformat_minor": 0,
  "metadata": {
    "colab": {
      "name": "custom_loss_tester.ipynb",
      "provenance": [],
      "collapsed_sections": []
    },
    "kernelspec": {
      "display_name": "Python 3",
      "language": "python",
      "name": "python3"
    },
    "language_info": {
      "codemirror_mode": {
        "name": "ipython",
        "version": 3
      },
      "file_extension": ".py",
      "mimetype": "text/x-python",
      "name": "python",
      "nbconvert_exporter": "python",
      "pygments_lexer": "ipython3",
      "version": "3.8.5"
    }
  },
  "cells": [
    {
      "cell_type": "markdown",
      "metadata": {
        "id": "SbMjTL6iJ0UC"
      },
      "source": [
        "# Custom Loss Tester"
      ]
    },
    {
      "cell_type": "markdown",
      "metadata": {
        "id": "t1g9IZV6J0UO"
      },
      "source": [
        "### Load libraries"
      ]
    },
    {
      "cell_type": "code",
      "metadata": {
        "id": "e5guCosjAaAo"
      },
      "source": [
        "import torch.nn.functional as F\n",
        "import torch\n",
        "from torch.autograd import Variable\n",
        "from torch import autograd\n",
        "import matplotlib.pyplot as plt\n",
        "import math\n",
        "import numpy as np\n",
        "device = torch.device(\"cuda:0\" if  torch.cuda.is_available() else \"cpu\")"
      ],
      "execution_count": 1,
      "outputs": []
    },
    {
      "cell_type": "markdown",
      "metadata": {
        "id": "ErthBIT6J0UT"
      },
      "source": [
        "### Add different loss function"
      ]
    },
    {
      "cell_type": "code",
      "metadata": {
        "id": "May0RFt7MTm9"
      },
      "source": [
        "# custom loss function used as followed: \n",
        "# bce_custom = bce_custom_loss.apply(Y, label_real)\n",
        "# bce_custom.backward()\n",
        "\n",
        "class bce_custom_loss(autograd.Function):\n",
        "    @staticmethod\n",
        "    def forward(ctx, x , y):\n",
        "        loss = torch.mean(-y * torch.clamp(torch.log(x), min = -100) - (1.0-y) * torch.clamp(torch.log(1.0 - x),min = -100))\n",
        "        ctx.save_for_backward(loss,x,y)\n",
        "        return loss\n",
        "\n",
        "    @staticmethod\n",
        "    def backward(ctx, grad_output):\n",
        "        result, x, y, = ctx.saved_tensors\n",
        "        return torch.nan_to_num( torch.clamp(-( y/x - (1-y)/(1-x) ) ,min=-1.0000e+12,max=1.0000e+12 ) , nan=0.0)  , None\n",
        "    \n",
        "def bce_w_logit(input, target, weight=None, average=True):\n",
        "   \n",
        "    if weight is not None and weight.dim() != target.dim() and target.dim() != 1:\n",
        "        weight = weight.view(1, target.size(1)).expand_as(target)\n",
        "\n",
        "    neg_abs = - input.abs()\n",
        "    loss = input.clamp(min=0) - input * target + (1 + neg_abs.exp()).log()\n",
        "\n",
        "    if weight is not None:\n",
        "        loss = loss * weight\n",
        "\n",
        "    if average:\n",
        "        return loss.mean()\n",
        "    else:\n",
        "        return loss.sum()\n",
        "\n",
        "def my_bce_with_logits_loss(x, y):\n",
        "    loss = -1.0 * (y * F.logsigmoid(x) + (1 - y) * torch.log(1 - torch.sigmoid(x)))\n",
        "    loss = loss.mean()\n",
        "    return loss\n",
        "\n",
        "def my_bce_with_logits_loss_stable(x, y):\n",
        "    max_val = (-x).clamp_min_(0)\n",
        "    loss = (1 - y) * x + max_val + torch.log(torch.exp(-max_val) + torch.exp(-x - max_val))\n",
        "    loss = loss.mean()\n",
        "    return loss"
      ],
      "execution_count": 2,
      "outputs": []
    },
    {
      "cell_type": "markdown",
      "metadata": {
        "id": "J9lrZkgGJ0UY"
      },
      "source": [
        "### Load test data"
      ]
    },
    {
      "cell_type": "code",
      "metadata": {
        "id": "2Jz_WdreJ0Ub"
      },
      "source": [
        "# manually loaded 10 samples from test data\n",
        "device = torch.device(\"cuda:0\" if  torch.cuda.is_available() else \"cpu\")\n",
        "real_pred= torch.tensor([0.8114, 0.2695, 0.8771, 0.4360, 0.7581, 0.8822, 0.6321, 0.5566, 0.6454,\n",
        "        0.4139]).to(device)\n",
        "fake_pred=torch.tensor([0.0541, 0.5377, 0.8052, 0.8737, 0.3856, 0.2496, 0.2741, 0.3890, 0.1179,\n",
        "        0.7338]).to(device)\n",
        "label_real= torch.tensor([1., 1., 1., 1., 1., 1., 1., 1., 1., 1.]).to(device)\n",
        "label_fake= torch.tensor([0., 0., 0., 0., 0., 0., 0., 0., 0., 0.]).to(device)"
      ],
      "execution_count": 3,
      "outputs": []
    },
    {
      "cell_type": "code",
      "metadata": {
        "colab": {
          "base_uri": "https://localhost:8080/"
        },
        "id": "BoyfOsceJ0Ue",
        "outputId": "1855e0f4-911e-404a-a805-bfc80461b787"
      },
      "source": [
        "print(\"------Generator Loss------------\")\n",
        "print(\"F.binary_cross_entropy:\", F.binary_cross_entropy(fake_pred, label_real))\n",
        "print(\"bce_custom_loss:\", bce_custom_loss.apply(fake_pred, label_real))\n",
        "print(\"bce_w_logits:\", bce_w_logit(fake_pred, label_real))\n",
        "print(\"bce_with_logits:\", my_bce_with_logits_loss(fake_pred, label_real))\n",
        "print(\"bce_with_logits_stable:\", my_bce_with_logits_loss_stable(fake_pred, label_real))\n",
        "print(\"------Discriminator Loss--------\")\n",
        "print(\"F.binary_cross_entropy:\",0.5 * (F.binary_cross_entropy(label_real, real_pred) + F.binary_cross_entropy(label_fake, fake_pred)))\n",
        "print(\"bce_custom_loss:\", 0.5 * (bce_custom_loss.apply(label_real, real_pred) + bce_custom_loss.apply(label_fake, fake_pred)))\n",
        "print(\"bce_logit:\", 0.5 * (bce_w_logit(label_real, real_pred) +  bce_w_logit(label_fake, fake_pred)))\n",
        "print(\"bce_logit:\", 0.5 * (my_bce_with_logits_loss_stable(label_real, real_pred) +  my_bce_with_logits_loss_stable(label_fake, fake_pred)))\n"
      ],
      "execution_count": 4,
      "outputs": [
        {
          "output_type": "stream",
          "text": [
            "------Generator Loss------------\n",
            "F.binary_cross_entropy: tensor(1.0916)\n",
            "bce_custom_loss: tensor(1.0916)\n",
            "bce_w_logits: tensor(0.5051)\n",
            "bce_with_logits: tensor(0.5051)\n",
            "bce_with_logits_stable: tensor(0.5051)\n",
            "------Discriminator Loss--------\n",
            "F.binary_cross_entropy: tensor(40.6920)\n",
            "bce_custom_loss: tensor(40.6920)\n",
            "bce_logit: tensor(0.6891)\n",
            "bce_logit: tensor(0.6891)\n"
          ],
          "name": "stdout"
        }
      ]
    },
    {
      "cell_type": "code",
      "metadata": {
        "id": "fiRLrVP__8-N",
        "colab": {
          "base_uri": "https://localhost:8080/"
        },
        "outputId": "62ec1372-f1e0-46d7-d55d-efb786332360"
      },
      "source": [
        "losses=[3.720076e-45]\n",
        "for i in range(1,45):\n",
        "    losses.append(losses[i-1]*10)\n",
        "    \n",
        "np.log(losses)"
      ],
      "execution_count": 5,
      "outputs": [
        {
          "output_type": "execute_result",
          "data": {
            "text/plain": [
              "array([-102.30258509,  -99.99999999,  -97.6974149 ,  -95.39482981,\n",
              "        -93.09224471,  -90.78965962,  -88.48707453,  -86.18448944,\n",
              "        -83.88190434,  -81.57931925,  -79.27673416,  -76.97414906,\n",
              "        -74.67156397,  -72.36897888,  -70.06639378,  -67.76380869,\n",
              "        -65.4612236 ,  -63.15863851,  -60.85605341,  -58.55346832,\n",
              "        -56.25088323,  -53.94829813,  -51.64571304,  -49.34312795,\n",
              "        -47.04054285,  -44.73795776,  -42.43537267,  -40.13278758,\n",
              "        -37.83020248,  -35.52761739,  -33.2250323 ,  -30.9224472 ,\n",
              "        -28.61986211,  -26.31727702,  -24.01469192,  -21.71210683,\n",
              "        -19.40952174,  -17.10693665,  -14.80435155,  -12.50176646,\n",
              "        -10.19918137,   -7.89659627,   -5.59401118,   -3.29142609,\n",
              "         -0.98884099])"
            ]
          },
          "metadata": {
            "tags": []
          },
          "execution_count": 5
        }
      ]
    },
    {
      "cell_type": "code",
      "metadata": {
        "id": "lyC_AQBL3uym"
      },
      "source": [
        "label_real = torch.tensor([1.0]).to(device)\n",
        "grad = []\n",
        "grad_custom = []\n",
        "grad_custom_w_logit = []\n",
        "grad_custom_w_logit2 = []\n",
        "for val in losses:\n",
        "    X = Variable(torch.tensor([val]).to(device), requires_grad=True)\n",
        "    Y = Variable(torch.tensor([val]).to(device), requires_grad=True)\n",
        "    Z = Variable(torch.tensor([val]).to(device), requires_grad=True)\n",
        "    XY = Variable(torch.tensor([val]).to(device), requires_grad=True)\n",
        "    # binrary cross entropy pytorch  \n",
        "    F_bce_loss = F.binary_cross_entropy(X, label_real)\n",
        "    F_bce_loss.backward()\n",
        "    grad.append(X.grad)\n",
        "    \n",
        "    # custom loss\n",
        "    bce_custom=bce_custom_loss.apply(Y, label_real)\n",
        "    bce_custom.backward()\n",
        "    grad_custom.append(Y.grad)\n",
        "    \n",
        "    bce_custom_w_logit = bce_w_logit(Z, label_real)\n",
        "    bce_custom_w_logit.backward()\n",
        "    grad_custom_w_logit.append(Z.grad)\n",
        "    \n",
        "    bce_custom_w_logit2 = my_bce_with_logits_loss(XY, label_real)\n",
        "    bce_custom_w_logit2.backward()\n",
        "    grad_custom_w_logit2.append(XY.grad)\n"
      ],
      "execution_count": 6,
      "outputs": []
    },
    {
      "cell_type": "code",
      "metadata": {
        "colab": {
          "base_uri": "https://localhost:8080/",
          "height": 312
        },
        "id": "JKbQrWU9AU86",
        "outputId": "015d37b3-d930-45b2-e4ab-d6ac3b7442f1"
      },
      "source": [
        "plt.xlabel('Log(values)')\n",
        "plt.ylabel('Gradients')\n",
        "plt.title('Pytorch F.binary_cross_entropy')\n",
        "plt.plot(list(torch.log(torch.tensor(losses))),list(grad))"
      ],
      "execution_count": 11,
      "outputs": [
        {
          "output_type": "execute_result",
          "data": {
            "text/plain": [
              "[<matplotlib.lines.Line2D at 0x7f295e4a8710>]"
            ]
          },
          "metadata": {
            "tags": []
          },
          "execution_count": 11
        },
        {
          "output_type": "display_data",
          "data": {
            "image/png": "[encoded data removed]",
            "text/plain": [
              "<Figure size 432x288 with 1 Axes>"
            ]
          },
          "metadata": {
            "tags": [],
            "needs_background": "light"
          }
        }
      ]
    },
    {
      "cell_type": "code",
      "metadata": {
        "scrolled": true,
        "colab": {
          "base_uri": "https://localhost:8080/",
          "height": 312
        },
        "id": "7ElRLc-RJ0Uy",
        "outputId": "728c6a75-2194-459e-c737-aa1fde0f50e5"
      },
      "source": [
        "plt.xlabel('Log(values)')\n",
        "plt.ylabel('Gradients')\n",
        "plt.title('BCE custom loss')\n",
        "plt.plot(list(torch.log(torch.tensor(losses))),list(grad_custom))"
      ],
      "execution_count": 12,
      "outputs": [
        {
          "output_type": "execute_result",
          "data": {
            "text/plain": [
              "[<matplotlib.lines.Line2D at 0x7f295e5ef750>]"
            ]
          },
          "metadata": {
            "tags": []
          },
          "execution_count": 12
        },
        {
          "output_type": "display_data",
          "data": {
            "image/png": "[encoded data removed]",
            "text/plain": [
              "<Figure size 432x288 with 1 Axes>"
            ]
          },
          "metadata": {
            "tags": [],
            "needs_background": "light"
          }
        }
      ]
    },
    {
      "cell_type": "code",
      "metadata": {
        "colab": {
          "base_uri": "https://localhost:8080/",
          "height": 312
        },
        "id": "WDlGuQ-BAWUL",
        "scrolled": true,
        "outputId": "cb365f01-6433-4e49-e5e8-ff1434b5ce02"
      },
      "source": [
        "plt.xlabel('Log(values)')\n",
        "plt.ylabel('Gradients')\n",
        "plt.title('BCE custom loss with logits 1')\n",
        "plt.plot(list(torch.log(torch.tensor(losses))),list(grad_custom_w_logit))"
      ],
      "execution_count": 13,
      "outputs": [
        {
          "output_type": "execute_result",
          "data": {
            "text/plain": [
              "[<matplotlib.lines.Line2D at 0x7f295e3e9f50>]"
            ]
          },
          "metadata": {
            "tags": []
          },
          "execution_count": 13
        },
        {
          "output_type": "display_data",
          "data": {
            "image/png": "[encoded data removed]",
            "text/plain": [
              "<Figure size 432x288 with 1 Axes>"
            ]
          },
          "metadata": {
            "tags": [],
            "needs_background": "light"
          }
        }
      ]
    },
    {
      "cell_type": "code",
      "metadata": {
        "colab": {
          "base_uri": "https://localhost:8080/",
          "height": 312
        },
        "id": "dHz4E3sWJ0U5",
        "outputId": "bab0b541-151f-4a11-d127-0a4568ff2297"
      },
      "source": [
        "plt.xlabel('Log(values)')\n",
        "plt.ylabel('Gradients')\n",
        "plt.title('BCE custom loss with logits 2')\n",
        "plt.plot(list(torch.log(torch.tensor(losses))),list(grad_custom_w_logit2))"
      ],
      "execution_count": 14,
      "outputs": [
        {
          "output_type": "execute_result",
          "data": {
            "text/plain": [
              "[<matplotlib.lines.Line2D at 0x7f295e35d0d0>]"
            ]
          },
          "metadata": {
            "tags": []
          },
          "execution_count": 14
        },
        {
          "output_type": "display_data",
          "data": {
            "image/png": "[encoded data removed]",
            "text/plain": [
              "<Figure size 432x288 with 1 Axes>"
            ]
          },
          "metadata": {
            "tags": [],
            "needs_background": "light"
          }
        }
      ]
    },
    {
      "cell_type": "code",
      "metadata": {
        "id": "Ei4dcPxLJ0U8"
      },
      "source": [
        "grad_costum"
      ],
      "execution_count": null,
      "outputs": []
    },
    {
      "cell_type": "code",
      "metadata": {
        "id": "5X8mD37lJ0U-"
      },
      "source": [
        "grad"
      ],
      "execution_count": null,
      "outputs": []
    },
    {
      "cell_type": "code",
      "metadata": {
        "id": "n5iE3ihmJ0VC"
      },
      "source": [
        "grad_custom_w_logit"
      ],
      "execution_count": null,
      "outputs": []
    }
  ]
}